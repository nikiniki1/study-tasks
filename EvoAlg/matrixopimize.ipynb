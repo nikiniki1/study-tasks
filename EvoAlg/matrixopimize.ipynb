{
 "cells": [
  {
   "cell_type": "code",
   "execution_count": 65,
   "metadata": {
    "collapsed": true
   },
   "outputs": [],
   "source": [
    "import warnings\n",
    "import numpy as np\n",
    "from collections import Counter\n",
    "import matplotlib.pyplot as plt\n",
    "import seaborn as sns\n",
    "import time\n",
    "import pandas as pd\n",
    "warnings.filterwarnings(\"ignore\")"
   ]
  },
  {
   "cell_type": "code",
   "execution_count": 66,
   "outputs": [],
   "source": [
    "def non_equal_numbers(individ, exact):\n",
    "    \"\"\"\n",
    "    Выдает список с местами разных цифр.\n",
    "    \"\"\"\n",
    "    max_dim = max(exact.shape)\n",
    "    list_of_points = []\n",
    "    for i in range(max_dim):\n",
    "        for j in range(max_dim):\n",
    "            list_of_points.append((i,j))\n",
    "    for point in list_of_points:\n",
    "       if A[point] == individ[point]:\n",
    "            list_of_points.remove(point)\n",
    "    return list_of_points\n",
    "\n",
    "def intersection(points_a, points_b, coeff):\n",
    "    intersection = list((Counter(points_a) & Counter(points_b)).elements())\n",
    "    coeff = int(coeff * len(intersection))\n",
    "\n",
    "    intersection_point_list= np.arange(len(intersection))\n",
    "    np.random.shuffle(intersection_point_list)\n",
    "    intersection_point_list = intersection_point_list[:coeff]\n",
    "\n",
    "    intersection_reduced = []\n",
    "    for point in intersection_point_list:\n",
    "        intersection_reduced.append(intersection[point])\n",
    "    return intersection_reduced\n",
    "\n",
    "def crossover(population, coeff):\n",
    "    for i in range(len(pop)):\n",
    "        a, b = np.random.randint(0, len(pop), 2)\n",
    "        if a == b:\n",
    "            a = (a + 1) // len(pop)\n",
    "        points_a, points_b = non_equal_numbers(pop[a], A), non_equal_numbers(pop[b], A)\n",
    "        intersect = intersection(points_a, points_b, coeff)\n",
    "        for point in intersect:\n",
    "            pop[a][point] = pop[b][point]\n",
    "    return population\n",
    "\n",
    "def mutation(individ, A, coef):\n",
    "    minimum, maximum, shape = A.min(), A.max(), A.shape\n",
    "    pnts = non_equal_numbers(individ, A)\n",
    "\n",
    "    pick = int(coef * len(pnts))\n",
    "    if pick == 0:\n",
    "        pick += 1\n",
    "\n",
    "    for i in range(pick):\n",
    "        tick = np.random.randint(0, len(pnts))\n",
    "        individ[pnts[tick]] = np.random.randint(minimum, maximum)\n",
    "        pnts.remove(pnts[tick])\n",
    "    return individ\n",
    "\n",
    "def init_pop(count, A):\n",
    "    minimum, maximum, shape = A.min(), A.max(), A.shape\n",
    "    pop = []\n",
    "    for i in range(count):\n",
    "        pop.append(np.random.randint(minimum, maximum, shape))\n",
    "    return pop\n",
    "\n",
    "def fitness(individ, A_exact):\n",
    "    fitness = []\n",
    "    for index, matrix in enumerate(individ):\n",
    "        fitness.append([np.linalg.norm(matrix - A_exact), index])\n",
    "    return fitness\n",
    "\n",
    "def best_ind(pop, fit, mark):\n",
    "    fit = np.stack(fit)\n",
    "    best_indvid = []\n",
    "    for i, num in enumerate(fit[:,0]):\n",
    "        if num < mark:\n",
    "            best_indvid.append(pop[i])\n",
    "            return best_indvid\n",
    "    return best_indvid\n",
    "\n",
    "def selection(pop, fit):\n",
    "    population_worse = []\n",
    "    population_best = []\n",
    "    sorted_fit = np.array(sorted(np.stack(fit), key = lambda x: x[0]))\n",
    "    partial_pop_fit_worse = np.array(list(filter(lambda elem: elem[0] > np.mean(sorted_fit[:,0]), sorted_fit)))\n",
    "    partial_pop_fit_best = np.array(list(filter(lambda elem: elem[0] < np.mean(sorted_fit[:,0]), sorted_fit)))\n",
    "    for f in partial_pop_fit_worse[:,1]:\n",
    "        population_worse.append(pop[int(f)])\n",
    "    for f in partial_pop_fit_best[:,1]:\n",
    "        population_best.append(pop[int(f)])\n",
    "    return population_worse, population_best\n",
    "\n",
    "def optimizer(pop, solution, stop, coeff):\n",
    "    best = []\n",
    "    generation = 0\n",
    "    while not best:\n",
    "        population = []\n",
    "        fit = fitness(pop, solution)\n",
    "        best = best_ind(pop, fit, stop)\n",
    "        part_pop_worse, part_pop_best = selection(pop,fit)\n",
    "        part_pop = crossover(part_pop_worse,coeff)\n",
    "        # part_pop = part_pop_worse\n",
    "        for ind in part_pop:\n",
    "            population.append(mutation(ind, solution, coeff))\n",
    "        pop = part_pop_best + population\n",
    "        generation += 1\n",
    "    return best, generation"
   ],
   "metadata": {
    "collapsed": false
   }
  },
  {
   "cell_type": "code",
   "execution_count": 72,
   "outputs": [
    {
     "name": "stdout",
     "output_type": "stream",
     "text": [
      "1.8353472402908524\n",
      "[array([[10,  2,  8],\n",
      "       [ 1,  0, 14],\n",
      "       [ 5,  5,  5]])]\n",
      "1.8555944927588748\n",
      "[array([[10,  8,  8],\n",
      "       [ 1,  0, 14],\n",
      "       [ 5,  5,  5]])]\n",
      "1.7937165462754068\n",
      "[array([[10,  8,  8],\n",
      "       [ 1,  1, 14],\n",
      "       [ 5,  4,  5]])]\n",
      "1.8213251042520184\n",
      "[array([[10,  8,  6],\n",
      "       [ 1,  4,  5],\n",
      "       [ 5,  4,  5]])]\n",
      "1.8469094093274305\n",
      "[array([[10,  8,  8],\n",
      "       [ 1,  0, 14],\n",
      "       [ 5,  3,  5]])]\n",
      "1.82012976644508\n",
      "[array([[11,  8,  8],\n",
      "       [ 1,  0, 14],\n",
      "       [ 5,  3,  5]])]\n",
      "1.8408039752543415\n",
      "[array([[10, 14,  8],\n",
      "       [ 1,  0,  0],\n",
      "       [ 5, 14,  5]])]\n",
      "1.7947392969639893\n",
      "[array([[10, 13,  8],\n",
      "       [ 3,  0, 11],\n",
      "       [ 5,  6,  5]])]\n",
      "1.8155215115542795\n",
      "[array([[10,  7,  8],\n",
      "       [ 1,  0,  9],\n",
      "       [ 5, 10,  5]])]\n",
      "1.8250466603590203\n",
      "[array([[10,  9,  9],\n",
      "       [ 1,  5, 14],\n",
      "       [ 5,  4,  5]])]\n",
      "3.074194039242471\n",
      "[array([[11,  6, 12,  1],\n",
      "       [ 7,  9,  1, 16],\n",
      "       [18, 13,  4, 16],\n",
      "       [11, 12, 10, 11]])]\n",
      "3.0216360443193313\n",
      "[array([[11,  4, 12,  3],\n",
      "       [ 7, 10,  1, 18],\n",
      "       [18, 13,  4, 15],\n",
      "       [11, 14, 10, 18]])]\n",
      "3.0242030987252893\n",
      "[array([[11, 12, 12,  2],\n",
      "       [ 7,  7,  1, 16],\n",
      "       [18, 15,  4, 13],\n",
      "       [11, 13, 10,  6]])]\n",
      "3.0620596541574634\n",
      "[array([[11,  3, 12,  1],\n",
      "       [ 7,  4,  1,  5],\n",
      "       [18, 14,  4, 14],\n",
      "       [11,  2, 10,  8]])]\n",
      "3.055087312714976\n",
      "[array([[11,  3, 12,  1],\n",
      "       [ 7, 11,  1,  6],\n",
      "       [18, 12,  4, 15],\n",
      "       [11,  4, 10, 10]])]\n",
      "3.0631190312575165\n",
      "[array([[11,  3, 12,  2],\n",
      "       [ 7, 11,  1, 18],\n",
      "       [18, 14,  4, 15],\n",
      "       [11, 13, 10, 17]])]\n",
      "3.0284490624347495\n",
      "[array([[11,  4, 12,  2],\n",
      "       [ 7,  9,  1, 17],\n",
      "       [18, 15,  4, 14],\n",
      "       [11, 12, 10, 18]])]\n",
      "3.0583931374513833\n",
      "[array([[11,  2, 12,  1],\n",
      "       [ 7, 10,  1, 18],\n",
      "       [18, 16,  4, 15],\n",
      "       [11, 12, 10, 18]])]\n",
      "3.0826760247637006\n",
      "[array([[11,  2, 12,  1],\n",
      "       [ 7,  9,  1, 18],\n",
      "       [18, 13,  4, 15],\n",
      "       [11, 11, 10, 18]])]\n",
      "3.061809072116908\n",
      "[array([[11,  1, 12,  1],\n",
      "       [ 7, 11,  1, 18],\n",
      "       [18, 14,  4, 14],\n",
      "       [11, 13, 10, 17]])]\n"
     ]
    }
   ],
   "source": [
    "result = []\n",
    "res = {'shape':[],'n_iter': [],'n_gens':[],'time':[], 'fitness': []}\n",
    "sh = [(3,3), (4,4)]\n",
    "mat = []\n",
    "for s in sh:\n",
    "    A = np.random.randint(0,20,s)\n",
    "    for i in range(10):\n",
    "        pop = init_pop(200, A)\n",
    "        fit_init = fitness(pop,A)\n",
    "        stop = 0.1*np.mean(np.stack(fit_init)[:,0])\n",
    "        print(stop)\n",
    "        start = time.time()\n",
    "        best, n_gens = optimizer(pop, A, stop, 0.5)\n",
    "        print(best)\n",
    "        end = time.time()\n",
    "        res['shape'].append(s)\n",
    "        res['n_iter'].append(i)\n",
    "        res['n_gens'].append(n_gens)\n",
    "        res['time'].append(end - start)\n",
    "        res['fitness'].append(np.linalg.norm(best[0] - A))\n",
    "    result.append(res)\n",
    "    mat.append(A)"
   ],
   "metadata": {
    "collapsed": false
   }
  },
  {
   "cell_type": "code",
   "execution_count": 73,
   "outputs": [],
   "source": [
    "data = pd.DataFrame(res)"
   ],
   "metadata": {
    "collapsed": false
   }
  },
  {
   "cell_type": "code",
   "execution_count": 82,
   "outputs": [
    {
     "data": {
      "text/plain": "<Figure size 640x480 with 1 Axes>",
      "image/png": "[encoded data removed]"
     },
     "metadata": {},
     "output_type": "display_data"
    }
   ],
   "source": [
    "sns.boxplot(data = data, x ='shape', y = 'fitness')\n",
    "plt.savefig('fit.png', dpi = 150)"
   ],
   "metadata": {
    "collapsed": false
   }
  },
  {
   "cell_type": "code",
   "execution_count": 83,
   "outputs": [
    {
     "data": {
      "text/plain": "<Figure size 640x480 with 1 Axes>",
      "image/png": "[encoded data removed]"
     },
     "metadata": {},
     "output_type": "display_data"
    }
   ],
   "source": [
    "sns.boxplot(data = data, x ='shape', y = 'time')\n",
    "plt.savefig('time.png', dpi = 150)"
   ],
   "metadata": {
    "collapsed": false
   }
  },
  {
   "cell_type": "code",
   "execution_count": 85,
   "outputs": [
    {
     "data": {
      "text/plain": "<Figure size 640x480 with 1 Axes>",
      "image/png": "[encoded data removed]"
     },
     "metadata": {},
     "output_type": "display_data"
    }
   ],
   "source": [
    "sns.boxplot(data = data, x ='shape', y = 'n_gens')\n",
    "plt.savefig('n_gens.png', dpi = 150)"
   ],
   "metadata": {
    "collapsed": false
   }
  }
 ],
 "metadata": {
  "kernelspec": {
   "display_name": "Python 3",
   "language": "python",
   "name": "python3"
  },
  "language_info": {
   "codemirror_mode": {
    "name": "ipython",
    "version": 2
   },
   "file_extension": ".py",
   "mimetype": "text/x-python",
   "name": "python",
   "nbconvert_exporter": "python",
   "pygments_lexer": "ipython2",
   "version": "2.7.6"
  }
 },
 "nbformat": 4,
 "nbformat_minor": 0
}
