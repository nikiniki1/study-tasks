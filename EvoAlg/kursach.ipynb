{
 "cells": [
  {
   "cell_type": "code",
   "execution_count": 113,
   "metadata": {
    "collapsed": true
   },
   "outputs": [],
   "source": [
    "import random\n",
    "import warnings\n",
    "\n",
    "import numpy as np\n",
    "from numpy.linalg import svd\n",
    "warnings.filterwarnings(\"ignore\")"
   ]
  },
  {
   "cell_type": "code",
   "execution_count": 269,
   "outputs": [],
   "source": [
    "def initial_population(pop_size, exact):\n",
    "    init_pop = []\n",
    "    min, max, shape = exact.min(), exact.max(), exact.shape\n",
    "    for i in range(pop_size):\n",
    "        mat = np.random.random_integers(min, max, shape)\n",
    "        init_pop.append(mat)\n",
    "    return init_pop\n",
    "\n",
    "def crossover(individ_1, individ_2):\n",
    "    bnd = max(individ_1.shape)\n",
    "    i, j = np.random.random_integers(0, bnd - 1, 2)\n",
    "    k, m =  np.random.random_integers(0, bnd - 1, 2)\n",
    "    type = np.random.random_integers(0, 2)\n",
    "    if type == 0:\n",
    "        individ_1[i, j] = individ_2[k, m]\n",
    "    if type == 1:\n",
    "        r = np.random.random_integers(0, 4)\n",
    "        if r == 0:\n",
    "            individ_1[i,:] = individ_2[k, :]\n",
    "        if r == 1:\n",
    "            individ_1[:,j] = individ_2[:, m]\n",
    "        if r == 2:\n",
    "            individ_1[i,:] = individ_2[:, m]\n",
    "        if r == 3:\n",
    "            individ_1[:,j] = individ_2[k, :]\n",
    "    if type == 2:\n",
    "        # rand = np.random.binomial(n = 1, p = 0.1)\n",
    "        # if rand == 1:\n",
    "        #     if i == j or k == m :\n",
    "        #         i = (i + k - 1) // bnd\n",
    "        #         m = (m + j - 1) // bnd\n",
    "        #         individ_1[i:, j:] = individ_2[k:, m:]\n",
    "        #     else:\n",
    "        #         individ_1[i:, j:] = individ_2[k:, m:]\n",
    "        # else:\n",
    "            individ_1[i:, j:] = individ_2[i:, j:]\n",
    "    return individ_1\n",
    "\n",
    "def mutation(individ, exact):\n",
    "    min, maximum, bnd = exact.min(), exact.max(), max(exact.shape)\n",
    "    i, j = np.random.random_integers(0, bnd - 1, 2)\n",
    "    type = np.random.random_integers(0, 2)\n",
    "    if type == 0:\n",
    "        individ[i, j] = np.random.random_integers(min, maximum)\n",
    "    if type == 1:\n",
    "        r = np.random.random_integers(0, 1)\n",
    "        shape_1 = individ[i,:].shape\n",
    "        if r == 0:\n",
    "            individ[i,:] = np.random.random_integers(min, maximum, shape_1)\n",
    "        if r == 1:\n",
    "            individ[:,j] = np.random.random_integers(min, maximum, shape_1)\n",
    "    if type == 2:\n",
    "        shape_2 = individ[i:, j:].shape\n",
    "        individ[i:, j:] = np.random.random_integers(min, maximum, shape_2)\n",
    "    return individ\n",
    "\n",
    "def fitness(individ, A_exact):\n",
    "    fitness = []\n",
    "    for index, matrix in enumerate(individ):\n",
    "        fitness.append([np.linalg.norm(matrix - A_exact), index])\n",
    "    return fitness\n",
    "\n",
    "def selection(fitted_pop, coeff):\n",
    "    '''\n",
    "    Operator selection\n",
    "\n",
    "    Args:\n",
    "        fitted_pop: популяция с вычисленной на ней фитнес-функцией.\n",
    "        coeff: коэффициент для регуляции объемом выборки. min_value * coeff (%)\n",
    "\n",
    "    '''\n",
    "    select = list(filter(lambda elem: elem[0] < (min(np.stack(fit)[:,0]) * (1 + coeff)), fitted_pop))\n",
    "    return select"
   ],
   "metadata": {
    "collapsed": false
   }
  },
  {
   "cell_type": "code",
   "execution_count": 255,
   "outputs": [],
   "source": [
    "A = np.array([[5, 1, 8], [1, 9, 3], [2, 5, 6]])\n",
    "pop_size = 50\n",
    "init_pop = initial_population(pop_size, A)"
   ],
   "metadata": {
    "collapsed": false
   }
  },
  {
   "cell_type": "code",
   "execution_count": 265,
   "outputs": [],
   "source": [
    "pop = []\n",
    "for i in range(100):\n",
    "    tick = np.random.binomial(n = 1, p = 0.7) # случайное число для мутации\n",
    "    length = np.arange(0, len(init_pop)) # длина популяции для выбора конкретных индивидов\n",
    "    a, b = np.random.choice(length, 2, replace=False) # отбор индивидов\n",
    "    ind = crossover(init_pop[a], init_pop[b]) # кроссовер\n",
    "    if tick == 1:\n",
    "        ind = mutation(ind,A)\n",
    "    pop.append(ind)\n",
    "fit = fitness(pop, A)\n",
    "pop_new = selection(fitted_pop = fit, coeff = 0.3)"
   ],
   "metadata": {
    "collapsed": false
   }
  },
  {
   "cell_type": "code",
   "execution_count": 266,
   "outputs": [
    {
     "data": {
      "text/plain": "array([[3, 3, 8],\n       [7, 8, 5],\n       [4, 7, 8]])"
     },
     "execution_count": 266,
     "metadata": {},
     "output_type": "execute_result"
    }
   ],
   "source": [
    "pop[60]"
   ],
   "metadata": {
    "collapsed": false
   }
  },
  {
   "cell_type": "code",
   "execution_count": 267,
   "outputs": [
    {
     "data": {
      "text/plain": "array([[5, 4, 8],\n       [3, 9, 8],\n       [5, 3, 3]])"
     },
     "execution_count": 267,
     "metadata": {},
     "output_type": "execute_result"
    }
   ],
   "source": [
    "pop[27]"
   ],
   "metadata": {
    "collapsed": false
   }
  },
  {
   "cell_type": "code",
   "execution_count": 268,
   "outputs": [
    {
     "data": {
      "text/plain": "[[10.0, 4],\n [8.602325267042627, 7],\n [8.48528137423857, 9],\n [9.848857801796104, 12],\n [8.48528137423857, 17],\n [10.04987562112089, 18],\n [7.810249675906654, 20],\n [8.48528137423857, 24],\n [8.48528137423857, 26],\n [7.745966692414834, 27],\n [8.602325267042627, 29],\n [8.0, 34],\n [8.602325267042627, 35],\n [7.810249675906654, 37],\n [10.0, 42],\n [10.04987562112089, 43],\n [7.874007874011811, 45],\n [10.04987562112089, 48],\n [9.16515138991168, 49],\n [9.848857801796104, 56],\n [10.0, 57],\n [9.848857801796104, 59],\n [7.810249675906654, 60],\n [10.04987562112089, 63],\n [9.899494936611665, 64],\n [9.16515138991168, 69],\n [8.0, 70],\n [9.433981132056603, 71],\n [7.745966692414834, 73],\n [10.0, 78],\n [9.848857801796104, 80],\n [8.48528137423857, 84],\n [10.0, 90]]"
     },
     "execution_count": 268,
     "metadata": {},
     "output_type": "execute_result"
    }
   ],
   "source": [
    "def selection(fit, coeff):\n",
    "    select = list(filter(lambda elem: elem[0] < (min(np.stack(fit)[:,0]) * (1 + coeff)), fit))\n",
    "    return select"
   ],
   "metadata": {
    "collapsed": false
   }
  },
  {
   "cell_type": "code",
   "execution_count": null,
   "outputs": [],
   "source": [
    "def temp(elem):\n",
    "    elem < (min(np.stack(fit)[:,0])*1.1)"
   ],
   "metadata": {
    "collapsed": false
   }
  }
 ],
 "metadata": {
  "kernelspec": {
   "display_name": "Python 3",
   "language": "python",
   "name": "python3"
  },
  "language_info": {
   "codemirror_mode": {
    "name": "ipython",
    "version": 2
   },
   "file_extension": ".py",
   "mimetype": "text/x-python",
   "name": "python",
   "nbconvert_exporter": "python",
   "pygments_lexer": "ipython2",
   "version": "2.7.6"
  }
 },
 "nbformat": 4,
 "nbformat_minor": 0
}
